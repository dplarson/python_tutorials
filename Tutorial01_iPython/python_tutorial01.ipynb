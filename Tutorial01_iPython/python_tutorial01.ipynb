{
 "metadata": {
  "name": ""
 },
 "nbformat": 3,
 "nbformat_minor": 0,
 "worksheets": [
  {
   "cells": [
    {
     "cell_type": "markdown",
     "metadata": {},
     "source": [
      "# Python Tutorial \\#1\n",
      "This tutorial will cover the basics of Python syntax, packages/libraries, file I/O, and plotting. The examples will use real data measured by a Beaglebone Black whenever possible."
     ]
    },
    {
     "cell_type": "markdown",
     "metadata": {},
     "source": [
      "## 1) Syntax\n",
      "1. tab alignment instead of semi-colons\n",
      "2. assigning variables\n",
      "3. printing"
     ]
    },
    {
     "cell_type": "code",
     "collapsed": false,
     "input": [
      "# assign a single value as a variable\n",
      "x = 5\n",
      "\n",
      "# assign a list of values as a variable\n",
      "years = (2010, 2011, 2012, 2013, 2014)\n",
      "\n",
      "# NOTE: the variables are not printed in the output because the above lines only assign the variables instead of using them"
     ],
     "language": "python",
     "metadata": {},
     "outputs": [],
     "prompt_number": 8
    },
    {
     "cell_type": "code",
     "collapsed": false,
     "input": [
      "# to show the variables in the output, use print\n",
      "print x\n",
      "print years\n",
      "\n",
      "# you can also print other words or phrases together with the variables\n",
      "print \"x =\", x\n",
      "print \"years =\", years"
     ],
     "language": "python",
     "metadata": {},
     "outputs": [
      {
       "output_type": "stream",
       "stream": "stdout",
       "text": [
        "5\n",
        "(2010, 2011, 2012, 2013, 2014)\n",
        "x = 5\n",
        "years = (2010, 2011, 2012, 2013, 2014)\n"
       ]
      }
     ],
     "prompt_number": 9
    },
    {
     "cell_type": "code",
     "collapsed": false,
     "input": [
      "# Python uses indenting to specify which lines are connected in logic"
     ],
     "language": "python",
     "metadata": {},
     "outputs": [],
     "prompt_number": 10
    },
    {
     "cell_type": "code",
     "collapsed": false,
     "input": [
      "# example that works: a for-loop which prints out the values\n",
      "ages = (20, 21, 20, 18, 19)\n",
      "\n",
      "for age in ages:\n",
      "    print age"
     ],
     "language": "python",
     "metadata": {},
     "outputs": [
      {
       "output_type": "stream",
       "stream": "stdout",
       "text": [
        "20\n",
        "21\n",
        "20\n",
        "18\n",
        "19\n"
       ]
      }
     ],
     "prompt_number": 11
    },
    {
     "cell_type": "code",
     "collapsed": false,
     "input": [
      "# example that doesn't work: a for-loop without indents\n",
      "weights = (5, 10, 8, 6, 5)\n",
      "\n",
      "for weight in weights:\n",
      "print weight"
     ],
     "language": "python",
     "metadata": {},
     "outputs": [
      {
       "ename": "IndentationError",
       "evalue": "expected an indented block (<ipython-input-12-570508f44b3c>, line 5)",
       "output_type": "pyerr",
       "traceback": [
        "\u001b[0;36m  File \u001b[0;32m\"<ipython-input-12-570508f44b3c>\"\u001b[0;36m, line \u001b[0;32m5\u001b[0m\n\u001b[0;31m    print weight\u001b[0m\n\u001b[0m        ^\u001b[0m\n\u001b[0;31mIndentationError\u001b[0m\u001b[0;31m:\u001b[0m expected an indented block\n"
       ]
      }
     ],
     "prompt_number": 12
    },
    {
     "cell_type": "code",
     "collapsed": false,
     "input": [
      "# Python uses parenthesis for functions and square brackets for indexing\n",
      "\n",
      "# call the function ``range`` with parameters 0 and 10 (start and end indices)\n",
      "data = range(0, 10)\n",
      "print data\n",
      "\n",
      "# show index 5 of the variable (remembering that Python uses indexing starting with 0)\n",
      "print data[5]"
     ],
     "language": "python",
     "metadata": {},
     "outputs": [
      {
       "output_type": "stream",
       "stream": "stdout",
       "text": [
        "[0, 1, 2, 3, 4, 5, 6, 7, 8, 9]\n",
        "5\n"
       ]
      }
     ],
     "prompt_number": 4
    },
    {
     "cell_type": "markdown",
     "metadata": {},
     "source": [
      "## 2) Packages\n",
      "1. import packages\n",
      "2. import packages with an alias\n",
      "3. reading online documention"
     ]
    },
    {
     "cell_type": "code",
     "collapsed": false,
     "input": [
      "# import packages\n",
      "import numpy\n",
      "import scipy\n",
      "\n",
      "# check versions\n",
      "print \"Numpy version\", numpy.__version__\n",
      "print \"Scipy version\", scipy.__version__"
     ],
     "language": "python",
     "metadata": {},
     "outputs": [
      {
       "output_type": "stream",
       "stream": "stdout",
       "text": [
        "Numpy version 1.7.1\n",
        "Scipy version 0.13.2\n"
       ]
      }
     ],
     "prompt_number": 18
    },
    {
     "cell_type": "code",
     "collapsed": false,
     "input": [
      "# import packages, but assign them an alias\n",
      "import numpy as np\n",
      "import scipy as sp\n",
      "\n",
      "print \"Numpy version\", np.__version__\n",
      "print \"Scipy version\", sp.__version__"
     ],
     "language": "python",
     "metadata": {},
     "outputs": [
      {
       "output_type": "stream",
       "stream": "stdout",
       "text": [
        " Numpy version 1.7.1\n",
        "Scipy version 0.13.2\n"
       ]
      }
     ],
     "prompt_number": 6
    },
    {
     "cell_type": "code",
     "collapsed": false,
     "input": [
      "# use functions from the imported packages\n",
      "import numpy as np\n",
      "\n",
      "# call functions from the packages using <package name>.<function name>\n",
      "print \"Numpy lists the value of pi as\", np.pi\n",
      "print \"Numpy calculates sin(pi/2) as\", np.sin(np.pi / 2)"
     ],
     "language": "python",
     "metadata": {},
     "outputs": [
      {
       "output_type": "stream",
       "stream": "stdout",
       "text": [
        "Numpy lists the value of pi as 3.14159265359\n",
        "Numpy calculates sin(pi/2) as 1.0\n"
       ]
      }
     ],
     "prompt_number": 27
    },
    {
     "cell_type": "code",
     "collapsed": false,
     "input": [
      "# Most popular Python packages have good documentation (e.g. NumPy). Search Numpy's online documentation to \n",
      "# find the functions to calculate the minimum, maximum, mean, median, and standard deviation of a vector.\n",
      "\n",
      "data = (10, 11, 8, 3, 9, 10, 10)\n",
      "\n",
      "print \"Min:\", np.min(data)\n",
      "print \"Max:\", np.max(data)\n",
      "print \"Mean:\", np.mean(data)\n",
      "print \"Median:\", np.median(data)\n",
      "print \"Standard deviation:\", np.std(data)"
     ],
     "language": "python",
     "metadata": {},
     "outputs": [
      {
       "output_type": "stream",
       "stream": "stdout",
       "text": [
        "Min: 3\n",
        "Max: 11\n",
        "Mean: 8.71428571429\n",
        "Median: 10.0\n",
        "Standard deviation: 2.49079939631\n"
       ]
      }
     ],
     "prompt_number": 9
    },
    {
     "cell_type": "markdown",
     "metadata": {},
     "source": [
      "## 3) File I/O\n",
      "1. import data file using NumPy"
     ]
    },
    {
     "cell_type": "code",
     "collapsed": false,
     "input": [
      "# We can import data with a variety of functions in Python, but for this part we'll use Numpy.\n",
      "# Read the documentation for Numpy's genfromtxt function to see all the function parameters,\n",
      "# which will explain the results below.\n",
      "\n",
      "import numpy as np\n",
      "\n",
      "# version 1\n",
      "data1 = np.genfromtxt('power.csv')\n",
      "print \"Version 1:\", len(data1), \"data points\"\n",
      "\n",
      "# version 2: set delimiter\n",
      "data2 = np.genfromtxt('power.csv', delimiter=',')\n",
      "print \"Version 2:\", len(data2), \"data points\"\n",
      "\n",
      "# version 3: set delimiter and number of header lines to skip\n",
      "data3 = np.genfromtxt('power.csv', delimiter=',', skip_header=0)\n",
      "print \"Version 3:\", len(data3), \"data points\""
     ],
     "language": "python",
     "metadata": {},
     "outputs": [
      {
       "output_type": "stream",
       "stream": "stdout",
       "text": [
        "Version 1: 14461 data points\n",
        "Version 2:"
       ]
      },
      {
       "output_type": "stream",
       "stream": "stdout",
       "text": [
        " 14461 data points\n",
        "Version 3:"
       ]
      },
      {
       "output_type": "stream",
       "stream": "stdout",
       "text": [
        " 14461 data points\n"
       ]
      }
     ],
     "prompt_number": 18
    },
    {
     "cell_type": "markdown",
     "metadata": {},
     "source": [
      "## 4) Working with data\n",
      "1. min, max, mean\n",
      "2. indexing (all, first n indices, last n indices)\n",
      "3. functions"
     ]
    },
    {
     "cell_type": "code",
     "collapsed": false,
     "input": [
      "# Import power data\n",
      "power = np.genfromtxt('power.csv')\n",
      "\n",
      "# Get min, max, and mean of all the data\n",
      "print \"Min=\", np.min(power)\n",
      "print \"Max=\", np.max(power)\n",
      "print \"Mean=\", np.mean(power)\n",
      "\n",
      "# Compare to min, max, and mean of last 1440 points (1 point per minute => 1440 points=1 day)\n",
      "n_pts = 1440\n",
      "print \"Min=\", np.min(power[-n_pts:])\n",
      "print \"Max=\", np.max(power[-n_pts:])\n",
      "print \"Mean=\", np.mean(power[-n_pts:])"
     ],
     "language": "python",
     "metadata": {},
     "outputs": [
      {
       "output_type": "stream",
       "stream": "stdout",
       "text": [
        "Min= 0.04\n",
        "Max= 65.16\n",
        "Mean= 11.7298077588\n",
        "Min= 0.08\n",
        "Max= 49.67\n",
        "Mean= 5.11040972222\n"
       ]
      }
     ],
     "prompt_number": 20
    },
    {
     "cell_type": "code",
     "collapsed": false,
     "input": [
      "# Try using the data as input to different functions\n",
      "\n",
      "# sin(x)\n",
      "print np.sin(power)\n",
      "\n",
      "# mean of sin(x)\n",
      "print np.mean(np.sin(power))\n",
      "\n",
      "# square every element in the vector\n",
      "print power ** 2\n",
      "\n",
      "# multiple every element in the vector by 5\n",
      "print power * 5\n",
      "\n",
      "# divide power data by scaling factor to convert from Watts to Volts\n",
      "voltage = power / 92.5\n",
      "print \"Voltage mean:\", np.mean(voltage)\n",
      "print \"Voltage min:\", np.min(voltage)\n",
      "print \"Voltage max:\", np.max(voltage)"
     ],
     "language": "python",
     "metadata": {},
     "outputs": [
      {
       "output_type": "stream",
       "stream": "stdout",
       "text": [
        "[-0.00522202 -0.81062697 -0.89407894 ...,  0.32404303  0.19866933\n",
        "  0.19866933]\n",
        "0.161337941682\n",
        "[  8.89249000e+01   1.07536900e+02   1.31331600e+02 ...,   1.08900000e-01\n",
        "   4.00000000e-02   4.00000000e-02]\n",
        "[ 47.15  51.85  57.3  ...,   1.65   1.     1.  ]\n",
        "Voltage mean: 0.126808732528\n",
        "Voltage min: 0.000432432432432\n",
        "Voltage max: 0.704432432432\n"
       ]
      }
     ],
     "prompt_number": 26
    },
    {
     "cell_type": "markdown",
     "metadata": {},
     "source": [
      "## 5) Plotting\n",
      "1. basic plot\n",
      "2. adjusting plot properties (e.g. line color and labels)"
     ]
    },
    {
     "cell_type": "code",
     "collapsed": false,
     "input": [
      "# Matplotlib is a good plotting library for Python. We'll generate a \n",
      "# few plots of the power data and gradually tweak settings."
     ],
     "language": "python",
     "metadata": {},
     "outputs": [],
     "prompt_number": 29
    },
    {
     "cell_type": "code",
     "collapsed": false,
     "input": [
      "# Import required packages\n",
      "import matplotlib.pyplot as plt\n",
      "import numpy as np"
     ],
     "language": "python",
     "metadata": {},
     "outputs": [],
     "prompt_number": 2
    },
    {
     "cell_type": "code",
     "collapsed": false,
     "input": [
      "# Preprocess the data\n",
      "\n",
      "# power [W]\n",
      "power = np.genfromtxt('power.csv')\n",
      "\n",
      "# voltage [V]\n",
      "voltage = power / 92.5"
     ],
     "language": "python",
     "metadata": {},
     "outputs": [],
     "prompt_number": 3
    },
    {
     "cell_type": "code",
     "collapsed": false,
     "input": [
      "# Basic line plot\n",
      "plt.plot(power)\n",
      "\n",
      "# show the plot\n",
      "plt.show()"
     ],
     "language": "python",
     "metadata": {},
     "outputs": [],
     "prompt_number": 4
    },
    {
     "cell_type": "code",
     "collapsed": false,
     "input": [
      "# Better plot\n",
      "plt.plot(power, color='black')\n",
      "\n",
      "plt.xlabel('Time')\n",
      "plt.ylabel('Power [W]')\n",
      "\n",
      "plt.show()"
     ],
     "language": "python",
     "metadata": {},
     "outputs": [],
     "prompt_number": 5
    },
    {
     "cell_type": "code",
     "collapsed": false,
     "input": [
      "# Better plot version 2 (restricted to last 2 days of data)\n",
      "n_pts = 60 * 24 * 2\n",
      "\n",
      "# colors can be with keywords (e.g. 'k'='black' and 'r'='red'), hex values (e.g. '#ff4800') or ratios of RGB\n",
      "plt.plot(power[-n_pts:], color='#ff4800', linewidth=1, linestyle='-')\n",
      "\n",
      "plt.xlabel('Time')\n",
      "plt.ylabel('Power [W]')\n",
      "\n",
      "# set y-axis range\n",
      "plt.ylim([0, 70])\n",
      "\n",
      "plt.show()"
     ],
     "language": "python",
     "metadata": {},
     "outputs": [],
     "prompt_number": 16
    },
    {
     "cell_type": "code",
     "collapsed": false,
     "input": [
      "# Plot with multiple lines\n",
      "\n",
      "# select about 2 days of data (indices selected arbitratily so that the two lines overlap on the plots)\n",
      "power1 = power[60:3000]\n",
      "power2 = power[-3000:]\n",
      "\n",
      "plt.plot(power1, label='Power 1', color='0.1')\n",
      "plt.plot(power2, label='Power 2', color='#067495')\n",
      "\n",
      "# add axes labels\n",
      "plt.xlabel('Time')\n",
      "plt.ylabel('Power [W]')\n",
      "\n",
      "# set y-axis range\n",
      "plt.ylim([0, 100])\n",
      "\n",
      "# add legend\n",
      "plt.legend(loc='upper center', ncol=2)\n",
      "\n",
      "# add grid\n",
      "plt.grid()\n",
      "\n",
      "plt.show()"
     ],
     "language": "python",
     "metadata": {},
     "outputs": [],
     "prompt_number": 60
    }
   ],
   "metadata": {}
  }
 ]
}