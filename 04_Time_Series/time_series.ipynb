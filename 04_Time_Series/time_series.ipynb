{
 "metadata": {
  "name": "",
  "signature": "sha256:0d97cf0ea1440ae3030c7fc40a3aa8690356c2db8f67716bc10f0c0607f76a2e"
 },
 "nbformat": 3,
 "nbformat_minor": 0,
 "worksheets": [
  {
   "cells": [
    {
     "cell_type": "markdown",
     "metadata": {},
     "source": [
      "# Time series analysis with Python\n",
      "Part of the SWEET Workshop series presented by the [IDEA Student Center at UC San Diego](http://idea.ucsd.edu/).\n",
      "\n",
      "## Goals\n",
      "Learn how to use Python to analyze time series and solve common Environmental Engineering problems.\n",
      "\n",
      "## Requirements\n",
      "- python\n",
      "- ipython-notebook\n",
      "- numpy\n",
      "- matplotlib\n",
      "- pandas"
     ]
    },
    {
     "cell_type": "markdown",
     "metadata": {},
     "source": [
      "## 1. Importing time series data\n",
      "Importing (and working with) time series data can be tricky. But with the right set of tools, it doesn't have to be an impossible task.\n",
      "\n",
      "More specifically, we'll be using [pandas](http://pandas.pydata.org/), an open-source Python package that is great for working with time series."
     ]
    },
    {
     "cell_type": "code",
     "collapsed": false,
     "input": [
      "# first let's load the required packages\n",
      "#\n",
      "# NOTE: recall that in the Intro to Python workshop we learned\n",
      "# that you can assign aliases to package names so you don't\n",
      "# have to type as much (e.g. \"np\" for \"numpy\")\n",
      "#\n",
      "\n",
      "# pandas for time series analysis\n",
      "import pandas as pd\n",
      "\n",
      "# matplotlib for plotting\n",
      "%matplotlib inline\n",
      "import matplotlib.pyplot as plt"
     ],
     "language": "python",
     "metadata": {},
     "outputs": []
    },
    {
     "cell_type": "code",
     "collapsed": false,
     "input": [
      "# we're going to first look at some data from a (real) 1 MWp \n",
      "# photovoltaic farm in Southern California\n",
      "\n",
      "# before we try any real analysis, let's just see\n",
      "# what the data file looks like\n",
      "\n",
      "# open the file with Python's built-in `open()` command\n",
      "f = open(\"power.csv\")\n",
      "\n",
      "# show the entire file\n",
      "print f.read()\n",
      "\n",
      "# close the file\n",
      "f.close()\n",
      "\n",
      "# questions:\n",
      "# - how is the data organized?\n",
      "# - how many columns does it have?\n",
      "# - what type of data is it?\n",
      "# - any guess on the units?\n",
      "# - how is time represented?\n",
      "# - what is the sampling rate?\n",
      "#"
     ],
     "language": "python",
     "metadata": {},
     "outputs": []
    },
    {
     "cell_type": "code",
     "collapsed": false,
     "input": [
      "# now that we have a general sense of the data file,\n",
      "# let's import it\n",
      "\n",
      "# pandas includes a function to read csv files (`read_csv()`),\n",
      "# so try using that\n",
      "data = pd.read_csv(\"power.csv\")\n",
      "\n",
      "# display the data\n",
      "\n",
      "\n",
      "# questions:\n",
      "# - what does the data look like now?\n",
      "# - if something is different, any guess why?\n",
      "#"
     ],
     "language": "python",
     "metadata": {},
     "outputs": []
    },
    {
     "cell_type": "markdown",
     "metadata": {},
     "source": [
      "## 2. Data structures\n",
      "Or \"how does pandas organize data\"\n",
      "\n",
      "### An aside\n",
      "In programming, how you represent/organize your data can have a huge\n",
      "impact on the performance of your code as well as your experience\n",
      "(e.g. the difficulty in solving your problem). Data structure choices\n",
      "(by themselves) can make or break a project.\n",
      "\n",
      "We won't dive into this further since it's a large topic (and there\n",
      "are entire CSE course series on it). But it's important to keep in\n",
      "mind as we move forward with the code."
     ]
    },
    {
     "cell_type": "code",
     "collapsed": false,
     "input": [
      "# let's check what data structure `read_csv()` returned\n",
      "# for the data\n",
      "print type(data)\n",
      "\n",
      "# for more information on the data structures included\n",
      "# with pandas, see the \"Intro to Data Structures\" page:\n",
      "#\n",
      "#    http://pandas.pydata.org/pandas-docs/version/0.16.1/dsintro.html\n",
      "#"
     ],
     "language": "python",
     "metadata": {},
     "outputs": []
    },
    {
     "cell_type": "code",
     "collapsed": false,
     "input": [
      "# you can think of a DataFrame as 2D array (with some extra\n",
      "# goodies thrown in)\n",
      "\n",
      "# for example, a DataFrame has names for each column\n",
      "print data.columns\n",
      "\n",
      "# question:\n",
      "# - where did these names come from?\n",
      "#"
     ],
     "language": "python",
     "metadata": {},
     "outputs": []
    },
    {
     "cell_type": "code",
     "collapsed": false,
     "input": [
      "# and like a numpy array, a DataFrame has some built-in\n",
      "# commands for common traits and operations\n",
      "\n",
      "# what does this do?\n",
      "print data.shape"
     ],
     "language": "python",
     "metadata": {},
     "outputs": []
    },
    {
     "cell_type": "code",
     "collapsed": false,
     "input": [
      "# and this?\n",
      "print data.max()"
     ],
     "language": "python",
     "metadata": {},
     "outputs": []
    },
    {
     "cell_type": "code",
     "collapsed": false,
     "input": [
      "# and what about this?\n",
      "print data.head()"
     ],
     "language": "python",
     "metadata": {},
     "outputs": []
    },
    {
     "cell_type": "code",
     "collapsed": false,
     "input": [
      "# can you guess some other commands? e.g. what's the opposite\n",
      "# of `head()`?\n"
     ],
     "language": "python",
     "metadata": {},
     "outputs": []
    },
    {
     "cell_type": "code",
     "collapsed": false,
     "input": [
      "# another very useful command is `describe()`\n",
      "print data.describe()"
     ],
     "language": "python",
     "metadata": {},
     "outputs": []
    },
    {
     "cell_type": "markdown",
     "metadata": {},
     "source": [
      "## 3. Indexing and selecting data"
     ]
    },
    {
     "cell_type": "code",
     "collapsed": false,
     "input": [
      "# we've got a few options for selecting data from\n",
      "# a pandas DataFrame\n",
      "\n",
      "# the most straight forward way is to just use the\n",
      "# column names\n",
      "print data[['power_north', 'power_south']]"
     ],
     "language": "python",
     "metadata": {},
     "outputs": []
    },
    {
     "cell_type": "code",
     "collapsed": false,
     "input": [
      "# and since a DataFrame is basically a 2D array, we can\n",
      "# plot the data in the same way as a numpy array\n",
      "\n",
      "# power from the north half of the PV plant\n",
      "plt.plot(data[['power_north']])\n",
      "\n",
      "# try plotting the south half of the PV plant on \n",
      "# the same figure\n",
      "#plt.plot()"
     ],
     "language": "python",
     "metadata": {},
     "outputs": []
    },
    {
     "cell_type": "code",
     "collapsed": false,
     "input": [
      "# NOTE: there are other ways to index a DataFrame, but we'll\n",
      "# leave those for another time"
     ],
     "language": "python",
     "metadata": {},
     "outputs": []
    },
    {
     "cell_type": "markdown",
     "metadata": {},
     "source": [
      "## 4. Working with timestamps"
     ]
    },
    {
     "cell_type": "code",
     "collapsed": false,
     "input": [
      "# you may have noticed that the DataFrame created to hold\n",
      "# the power data had an extra \"column\" without a name (that\n",
      "# went from 0 to 77)\n",
      "\n",
      "# that \"column\" is the index of the DataFrame and was\n",
      "# created automatically since we did not specify a column\n",
      "# to use as the index\n",
      "\n",
      "# so let's revise our `read_csv()` code to load the same\n",
      "# data file, but to use the timestamp column as the index\n",
      "data = pd.read_csv(\"power.csv\",\n",
      "                   \n",
      "                   # use the \"timestamp\" column (column 0) as the index\n",
      "                   index_col=0,\n",
      "                   \n",
      "                   # parse the timestamps (instead of loading them\n",
      "                   # as string)\n",
      "                   parse_dates=0,\n",
      "                   )\n",
      "\n",
      "# use `head()` to check the first few rows of the\n",
      "# revised DataFrame\n",
      "\n",
      "\n",
      "# questions:\n",
      "# - what's different about the DataFrame now?\n",
      "# - is there still an extra \"column\" (that goes from 0 to 77)?\n",
      "#"
     ],
     "language": "python",
     "metadata": {},
     "outputs": []
    },
    {
     "cell_type": "code",
     "collapsed": false,
     "input": [
      "# indexing this revised DataFrame works the same as before\n",
      "print data[[\"power_total\"]]"
     ],
     "language": "python",
     "metadata": {},
     "outputs": []
    },
    {
     "cell_type": "code",
     "collapsed": false,
     "input": [
      "# NOTE: you can combine indexing and function calls\n",
      "print data[['power_north']].head()"
     ],
     "language": "python",
     "metadata": {},
     "outputs": []
    },
    {
     "cell_type": "code",
     "collapsed": false,
     "input": [
      "# plotting also works the same\n",
      "plt.plot(data[['power_north']])"
     ],
     "language": "python",
     "metadata": {},
     "outputs": []
    },
    {
     "cell_type": "code",
     "collapsed": false,
     "input": [
      "# but since we parsed the timestamps, we can use the\n",
      "# timestamp data in the plots\n",
      "plt.plot(data.index, data[['power_north']])"
     ],
     "language": "python",
     "metadata": {},
     "outputs": []
    },
    {
     "cell_type": "code",
     "collapsed": false,
     "input": [
      "# to make the timestamps easier to read, we can make the plot larger\n",
      "plt.figure(figsize=(10, 5))\n",
      "\n",
      "plt.plot(data.index, data[['power_north']])\n",
      "\n",
      "# and we can add labels (to make the data easier to understand)\n",
      "plt.xlabel(\"Timestamp (UTC)\")\n",
      "\n",
      "# add a y-axis label (with power having units of kW)\n",
      "\n",
      "\n",
      "# also add a plot (to the same figure) of power from the south half of the PV plant\n"
     ],
     "language": "python",
     "metadata": {},
     "outputs": []
    },
    {
     "cell_type": "markdown",
     "metadata": {},
     "source": [
      "## 5. Time series analysis\n",
      "Now that we understand the basics of loading and working with time series data, let's move\n",
      "onto solving some realistic problems."
     ]
    },
    {
     "cell_type": "code",
     "collapsed": false,
     "input": [
      "# first, let's convert the data to hourly averages\n",
      "# (the original data is in 15-mins increments)\n",
      "\n",
      "# pandas as a built-in function for DataFrames (`resample()`)\n",
      "# which we can use to convert to other sampling rates\n",
      "\n",
      "# `1h` = 1 hour sampling rate\n",
      "data_hour = data.resample('1h')\n",
      "\n",
      "# display the new 1 hour data\n",
      "\n",
      "\n",
      "# NOTE: `resample()` added NaN values for the hours\n",
      "# where there wasn't any data before"
     ],
     "language": "python",
     "metadata": {},
     "outputs": []
    },
    {
     "cell_type": "code",
     "collapsed": false,
     "input": [
      "# although the above code ran, we must ask ourselves:\n",
      "# is the result actually what we want?\n",
      "\n",
      "# yes, `resample('1h')` returned hourly data, but how\n",
      "# were the values calculated?\n",
      "\n",
      "# are the values hourly averages or totals?\n",
      "\n",
      "# if averages, are they backwards averaged, forward averaged \n",
      "# or other?\n",
      "\n",
      "# these are extremely important questions that must be\n",
      "# answered (otherwise, the results are meaningless)"
     ],
     "language": "python",
     "metadata": {},
     "outputs": []
    },
    {
     "cell_type": "code",
     "collapsed": false,
     "input": [
      "# let's modify our `resample()` code to be more explicit\n",
      "\n",
      "# specifically, let's backwards average our data\n",
      "# to hourly values (which is a pretty common method)\n",
      "\n",
      "data_hour_backwards = data.resample('1h',\n",
      "                                    \n",
      "                                    # use averaged values\n",
      "                                    how='mean',\n",
      "                                    \n",
      "                                    # backwards calculation\n",
      "                                    closed='right')"
     ],
     "language": "python",
     "metadata": {},
     "outputs": []
    },
    {
     "cell_type": "code",
     "collapsed": false,
     "input": [
      "# let's compare the values visually\n",
      "plt.figure(figsize=(14, 6))\n",
      "\n",
      "# the original data\n",
      "plt.plot(data.index, data.power_north,\n",
      "         color='k',\n",
      "         marker='o',\n",
      "         label=\"Original\")\n",
      "\n",
      "# hourly data (first version)\n",
      "plt.plot(data_hour.index, data_hour.power_north,\n",
      "         color='r',\n",
      "         marker='s',\n",
      "         label=\"Version 1\")\n",
      "\n",
      "# hourly data (second version, i.e., the backwards-averaged version)\n",
      "plt.plot(data_hour_backwards.index, data_hour_backwards.power_north,\n",
      "         color='b',\n",
      "         marker='^',\n",
      "         label=\"Version 2\")\n",
      "\n",
      "# add labels\n",
      "plt.xlabel(\"Timestamp (UTC)\")\n",
      "plt.ylabel(\"Power [kW]\")\n",
      "\n",
      "# add a legend (for easier comparison)\n",
      "#\n",
      "# NOTE: `plt.legend()` uses the label info from `label=\"something\"` in `plt.plot()`\n",
      "#\n",
      "plt.legend()\n",
      "\n",
      "# questions:\n",
      "# - is there a difference between the two versions?\n",
      "# - how much of a difference?\n",
      "#"
     ],
     "language": "python",
     "metadata": {},
     "outputs": []
    },
    {
     "cell_type": "code",
     "collapsed": false,
     "input": [
      "# now that we understand how to convert between sampling rates, we can answer\n",
      "# a lot of common questions:\n",
      "#\n",
      "# - what is the hourly averaged power output from each half of the plant?\n",
      "# - what is the total power produced for each hour (\"sum\" instead of \"mean\")?\n",
      "# - what is the daily mean power output (\"1D\" instead of \"1h\")?\n",
      "# - what is the daily total power output?\n",
      "#"
     ],
     "language": "python",
     "metadata": {},
     "outputs": []
    },
    {
     "cell_type": "markdown",
     "metadata": {},
     "source": [
      "## 6. Advanced analysis\n",
      "The data we've been using so far is real, but has been pre-processed to make\n",
      "analysis easier. Let's try looking at some other data which hasn't been\n",
      "pre-processed."
     ]
    },
    {
     "cell_type": "code",
     "collapsed": false,
     "input": [
      "# a week of power output data:\n",
      "# - sampling rate: 15 minutes\n",
      "# - columns: power_north, power_south, power_total\n",
      "# - units: kW\n",
      "#\n",
      "power = pd.read_csv(\"power_week.csv\", index_col=0, parse_dates=0)"
     ],
     "language": "python",
     "metadata": {},
     "outputs": []
    },
    {
     "cell_type": "code",
     "collapsed": false,
     "input": [
      "# Global Horizontal Irradiance (GHI) data from a sensor at the power plant\n",
      "# (which has some missing data):\n",
      "# - sampling rate: 30 seconds\n",
      "# - columns: ghi\n",
      "# - units: W/m^2\n",
      "#\n",
      "ghi = pd.read_csv(\"ghi_week.csv\", index_col=0, parse_dates=0)"
     ],
     "language": "python",
     "metadata": {},
     "outputs": []
    },
    {
     "cell_type": "code",
     "collapsed": false,
     "input": [
      "# let's first convert the GHI data to 15-mins averages\n",
      "ghi_15mins = ghi.resample('15min', how='mean', closed='right')"
     ],
     "language": "python",
     "metadata": {},
     "outputs": []
    },
    {
     "cell_type": "code",
     "collapsed": false,
     "input": [
      "# plot power [kW]\n",
      "plt.figure(figsize=(10, 6))\n",
      "plt.plot(power.index, power.power_total, color='k')\n",
      "\n",
      "# plot GHI [W/m^2] (on a separate figure)\n",
      "plt.figure(figsize=(10, 6))\n",
      "plt.plot(ghi.index, ghi.ghi, color='r')\n",
      "\n",
      "# questions:\n",
      "# - do the two time series cover the same range?\n",
      "# - if not, is there any overlap?\n",
      "# - if there is overlap, do the two data types appear to have a relationship?\n",
      "#"
     ],
     "language": "python",
     "metadata": {},
     "outputs": []
    },
    {
     "cell_type": "code",
     "collapsed": false,
     "input": [
      "# wouldn't it be nice if we could match the two time series so that\n",
      "# we end up with a data set of only the times when we have both\n",
      "# power and GHI measurements?\n",
      "\n",
      "# fortunately, pandas has a built-in function for doing just that\n",
      "\n",
      "merged_data = pd.merge(power, ghi,\n",
      "                       \n",
      "                       # match the time series using the indexes from the left (power) and right (ghi) DataFrames\n",
      "                       left_index=True, right_index=True,\n",
      "                       \n",
      "                       # only match where both DataFrames have data\n",
      "                       # (inner => intersection)\n",
      "                       how='inner',\n",
      "                       )\n",
      "\n",
      "# display the data\n"
     ],
     "language": "python",
     "metadata": {},
     "outputs": []
    },
    {
     "cell_type": "code",
     "collapsed": false,
     "input": [
      "# now with our merged data set, we can calculate some useuful things\n",
      "\n",
      "# convert the data to hourly averages\n",
      "merged_hour = merged_data.resample('1h', how='mean', closed='right')\n",
      "\n",
      "# and plot everything (using a shortcut built into pandas DataFrames)\n",
      "merged_hour.plot()"
     ],
     "language": "python",
     "metadata": {},
     "outputs": []
    },
    {
     "cell_type": "code",
     "collapsed": false,
     "input": [
      "# we can also use the `groupby()` function to get statistics\n",
      "# on the data by hour\n",
      "\n",
      "# groupby => cluster the data by some index\n",
      "#     merged_data.index.hour => group by the hour (from the timestamps)\n",
      "#         .mean() => get the average values\n",
      "#\n",
      "print merged_data.groupby(merged_data.index.hour).mean()\n",
      "\n",
      "# which hour (for the entire week of data) had the\n",
      "# largest mean values of:\n",
      "# - power (north half)\n",
      "# - power (south half)\n",
      "# - power (total = north + south)\n",
      "# - GHI\n",
      "#\n",
      "\n",
      "# is there any relationship between the different\n",
      "# data types"
     ],
     "language": "python",
     "metadata": {},
     "outputs": []
    },
    {
     "cell_type": "code",
     "collapsed": false,
     "input": [
      "# let's try looking at daily averages\n",
      "print merged_data.groupby(merged_data.index.day).mean()"
     ],
     "language": "python",
     "metadata": {},
     "outputs": []
    },
    {
     "cell_type": "code",
     "collapsed": false,
     "input": [
      "# similary, daily totals can be calculated\n",
      "print merged_data.groupby(merged_data.index.day).sum()"
     ],
     "language": "python",
     "metadata": {},
     "outputs": []
    },
    {
     "cell_type": "code",
     "collapsed": false,
     "input": [
      "# can you think of anything else that may be useful to calculate?\n",
      "\n",
      "# NOTE: this analysis can be applied to longer time series\n",
      "# (e.g. a year of data), other data types (e.g. we could\n",
      "# also compare temperature), and other applications\n",
      "# (e.g. time series of ocean acidity or air pollution)"
     ],
     "language": "python",
     "metadata": {},
     "outputs": []
    }
   ],
   "metadata": {}
  }
 ]
}