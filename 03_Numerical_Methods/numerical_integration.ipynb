{
 "metadata": {
  "name": "",
  "signature": "sha256:8057143b09df1cca2a0fa49214f3673ddfb8e548e025c50d49ff9b45c2d0a96f"
 },
 "nbformat": 3,
 "nbformat_minor": 0,
 "worksheets": [
  {
   "cells": [
    {
     "cell_type": "markdown",
     "metadata": {},
     "source": [
      "# Numerical integration with Python\n",
      "Part of the SWEET Workshop series presented by the [IDEA Student Center at UC San Diego](http://idea.ucsd.edu/).\n",
      "\n",
      "## Goals\n",
      "Learn how to perform numerical integration (using Python) for engineering applications. \n",
      "\n",
      "## Requirements\n",
      "- python\n",
      "- ipython-notebook\n",
      "- numpy\n",
      "- matplotlib"
     ]
    },
    {
     "cell_type": "markdown",
     "metadata": {},
     "source": [
      "## 1. Simple example\n",
      "We're going to try numerically integrating a simple function (to check if our results are valid). First, let's try integrating cos(x) from x=0 to x=$\\pi / 2$:\n",
      "\n",
      "$\\int_{0}^{\\pi / 2} cos(x) dx ,$\n",
      "\n",
      "which we know has an anlytical solution of:\n",
      "\n",
      "$\\int_{0}^{\\pi / 2} cos(x) dx = sin(x)|_{x=0}^{\\pi / 2} = sin(\\pi / 2) - sin(0) = 1 - 0 = 1$\n",
      "\n",
      "So if our numerical method is correct, we should get the same answer (or very close to the same answer)."
     ]
    },
    {
     "cell_type": "code",
     "collapsed": false,
     "input": [
      "# first let's load the required packages\n",
      "#\n",
      "# NOTE: recall that in the Intro to Python workshop we learned\n",
      "# that you can assign aliases to package names so you don't\n",
      "# have to type as much (e.g. \"np\" for \"numpy\")\n",
      "#\n",
      "\n",
      "# numpy for vector operations\n",
      "import numpy as np\n",
      "\n",
      "# matplotlib for plotting\n",
      "%matplotlib inline\n",
      "import matplotlib.pyplot as plt"
     ],
     "language": "python",
     "metadata": {},
     "outputs": []
    },
    {
     "cell_type": "code",
     "collapsed": false,
     "input": [
      "# first, let's create some data (which we'll use for the integration)\n",
      "\n",
      "# create a vector (x) that goes from 0 to pi/2\n",
      "x_min = 0.0\n",
      "x_max = np.pi / 2\n",
      "dx = 0.1\n",
      "x = np.arange(x_min, x_max + dx, dx)\n",
      "\n",
      "# now create a vector that is equal to cos(x)\n",
      "y = np.cos(x)\n",
      "\n",
      "# note that we added a little extra to the \"max\" value for arange()\n",
      "# so that the vector goes up to and includes the max (i.e. the\n",
      "# vector includes pi/2)\n",
      "#\n",
      "# without the extra added to the \"max\":\n",
      "#\n",
      "# > print np.arange(0.0, np.pi / 2, 0.1)\n",
      "# [0.0, 0.1, 0.2, ..., pi/2 - 0.3, pi/2 - 0.2, pi/2 - 0.1]\n",
      "#\n",
      "# with the extra added to the \"max\":\n",
      "#\n",
      "# > print np.arange(0.0, np.pi / 2 + 0.1, 0.1)\n",
      "# [0.0, 0.1, 0.2,..., pi/2 - 0.2, pi/2 - 0.1, pi/2]\n",
      "#"
     ],
     "language": "python",
     "metadata": {},
     "outputs": []
    },
    {
     "cell_type": "code",
     "collapsed": false,
     "input": [
      "# now let's plot the data (to get a sense of what we're integrating)\n",
      "\n",
      "#plt.plot()"
     ],
     "language": "python",
     "metadata": {},
     "outputs": []
    },
    {
     "cell_type": "code",
     "collapsed": false,
     "input": [
      "# for fun, let's making a slightly fancier plot showing exactly\n",
      "# what we're integrating\n",
      "\n",
      "# plot cos(x)\n",
      "plt.plot(x, y, color='k', linewidth=2)\n",
      "\n",
      "# set the x-axis and y-axis limits (so we can see more)\n",
      "plt.xlim([0, 1.8])\n",
      "plt.ylim([0, 1.2])\n",
      "\n",
      "# fill in the area under the curve (which is what our\n",
      "# integration will calculate)\n",
      "#\n",
      "#    y2=0.0 means fill between y and 0.0\n",
      "#    color='0.8' means light gray (0.0=black, 1.0=white)\n",
      "#\n",
      "plt.fill_between(x, y, y2=0.0, color='0.8')\n",
      "\n",
      "# add text showing the integration problem\n",
      "# (typeset with LaTeX to make it look fancy)\n",
      "plt.text(0.2, 0.3,\n",
      "         \n",
      "    # the integration equation in LaTeX: \n",
      "    #\n",
      "    #   $ $ = LaTeX equation code (between the \"$\")\n",
      "    #   \\int = integral symbol\n",
      "    #   _{0} = zero as a subscript\n",
      "    #   \\pi = pi symbol\n",
      "    #   ^{\\pi / 2} = pi/2 as a superscript\n",
      "    #   \\cos = \"cos\", but not italic (e.g. \"$cos(x)\" = italicized \"cos(x)\")\n",
      "    #\n",
      "    r\"$\\int_{0}^{\\pi / 2} \\cos (x) dx$\",\n",
      "         \n",
      "    # make the font bigger\n",
      "    fontsize=20\n",
      ")\n",
      "\n",
      "# change the x-axis ticks to show pi symbols\n",
      "plt.xticks(\n",
      "    # the values of the x-axis ticks\n",
      "    [0.0, np.pi / 4, np.pi / 2],\n",
      "\n",
      "    # the text to show for each tick\n",
      "    [\"$0$\", r\"$\\pi / 4$\", r\"$\\pi / 2$\"]\n",
      ")\n",
      "\n",
      "plt.show()"
     ],
     "language": "python",
     "metadata": {},
     "outputs": []
    },
    {
     "cell_type": "code",
     "collapsed": false,
     "input": [
      "# now we're going to numerically integrate cos(x) using\n",
      "# the trapezoidal rule\n",
      "\n",
      "# illustration of the trapezoidal rule\n",
      "from IPython.display import Image\n",
      "Image(\"https://upload.wikimedia.org/wikipedia/commons/thumb/d/dd/Trapezoidal_rule_illustration.png/316px-Trapezoidal_rule_illustration.png\")\n",
      "\n",
      "# for more info, see the Wikipedia page:\n",
      "#     https://en.wikipedia.org/wiki/Trapezoidal_rule"
     ],
     "language": "python",
     "metadata": {},
     "outputs": [
      {
       "metadata": {},
       "output_type": "pyout",
       "png": "[encoded data removed]",
       "prompt_number": 40,
       "text": [
        "<IPython.core.display.Image at 0x1079ce410>"
       ]
      }
     ],
     "prompt_number": 40
    },
    {
     "cell_type": "code",
     "collapsed": false,
     "input": [
      "# numpy includes a function for the trapezoidal rule\n",
      "# called trapz()\n",
      "\n",
      "# you can integrate a vector by either providing the vector\n",
      "# of the independent variable (in this case, x)\n",
      "print np.trapz(y, x=x)\n"
     ],
     "language": "python",
     "metadata": {},
     "outputs": []
    },
    {
     "cell_type": "code",
     "collapsed": false,
     "input": [
      "# or if the vector has the same spacing between all\n",
      "# elements, then we can just specify the step size (dx)\n",
      "#\n",
      "# NOTE: we earlier defined a variable (dx) which holds\n",
      "# the step size, but you could also just provide the\n",
      "# value here (e.g. `dx=0.1` would also work)\n",
      "#\n",
      "print np.trapz(y, dx=dx)\n"
     ],
     "language": "python",
     "metadata": {},
     "outputs": []
    },
    {
     "cell_type": "code",
     "collapsed": false,
     "input": [
      "# NOTE: if you don't provide the x vector or dx, trapz()\n",
      "# assumes that the step size is 1.0 (which may not be\n",
      "# what you want)\n",
      "\n",
      "print \"Wrong integration result because trapz() assumed dx=1.0: \", np.trapz(y)\n",
      "\n",
      "print \"The correct dx value is: \", dx\n",
      "\n",
      "print \"Integration result using the correct dx value: \", np.trapz(y, dx=dx)"
     ],
     "language": "python",
     "metadata": {},
     "outputs": []
    },
    {
     "cell_type": "code",
     "collapsed": false,
     "input": [
      "# notice that the integrated value is close to, but not exactly 1.0\n",
      "#\n",
      "# this is because the step size (i.e. resolution) of our data\n",
      "# is a bit too large\n",
      "#\n",
      "# try changing the step size and see how it affects the result\n",
      "# \n",
      "#     1. dx = 1.0\n",
      "#     2. dx = 0.1\n",
      "#     3. dx = 0.01\n",
      "#     4. dx = 0.001\n",
      "#     etc.\n",
      "#"
     ],
     "language": "python",
     "metadata": {},
     "outputs": []
    },
    {
     "cell_type": "code",
     "collapsed": false,
     "input": [
      "# what's the result for dx=1.0?\n"
     ],
     "language": "python",
     "metadata": {},
     "outputs": []
    },
    {
     "cell_type": "code",
     "collapsed": false,
     "input": [
      "# and for dx=0.01?\n"
     ],
     "language": "python",
     "metadata": {},
     "outputs": []
    },
    {
     "cell_type": "code",
     "collapsed": false,
     "input": [
      "# how small should dx be to get the \"correct\" answer?\n"
     ],
     "language": "python",
     "metadata": {},
     "outputs": []
    },
    {
     "cell_type": "markdown",
     "metadata": {},
     "source": [
      "## 2. Working with real data\n",
      "We'll now try a more realistic example (i.e. something that may have to do for an engineering project or internship). More specifically, we'll integrate energy usage data from a device in order to determine the battery capacity (in amp-hours) required to power the device."
     ]
    },
    {
     "cell_type": "code",
     "collapsed": false,
     "input": [
      "# included with this notebook is a .csv file (\"energy_usage.csv\")\n",
      "# that contains measurements of voltage and power from\n",
      "# a real device:\n",
      "# - voltage [V]\n",
      "# - power [W]\n",
      "# - sampling rate: per minute\n",
      "#\n",
      "\n",
      "# load the data file using numpy's genfromtxt() function\n",
      "# - two columns: voltage [V] and power [W]\n",
      "data = np.genfromtxt(\"energy_usage.csv\",\n",
      "                     \n",
      "                     # commas separate the columns\n",
      "                     delimiter=\",\",\n",
      "                     \n",
      "                     # ignore the first line (which has the column names)\n",
      "                     skip_header=1)\n",
      "\n",
      "# preview the data with print\n"
     ],
     "language": "python",
     "metadata": {},
     "outputs": []
    },
    {
     "cell_type": "code",
     "collapsed": false,
     "input": [
      "# calculate the current [A] from the voltage [V] and power [W]\n",
      "#\n",
      "#    P = I * V\n",
      "#\n",
      "\n",
      "# it's easier if you first split the data into two vectors\n",
      "\n",
      "# voltage [V] = all rows and column 0\n",
      "#voltage = \n",
      "\n",
      "# power [W] = all rows and column 1\n",
      "#power = \n",
      "\n",
      "# current [A] =\n",
      "current = data[:, 1] / data[:, 0]\n",
      "\n",
      "# check that the vectors have the same number of elements\n"
     ],
     "language": "python",
     "metadata": {},
     "outputs": []
    },
    {
     "cell_type": "code",
     "collapsed": false,
     "input": [
      "# plot the current [A] vs time\n"
     ],
     "language": "python",
     "metadata": {},
     "outputs": []
    },
    {
     "cell_type": "code",
     "collapsed": false,
     "input": [
      "# now let's numerically integrate the current measurements\n",
      "#\n",
      "# NOTE: the data is per-minute, so if you integrate it with\n",
      "# `dx=1.0` your result will be in amp-minutes\n",
      "#\n",
      "\n",
      "# capacity [amp-minutes]\n",
      "\n",
      "\n",
      "# convert from [amp-minutes] to [amp-hours] (which is a more common\n",
      "# unit for batteries)\n"
     ],
     "language": "python",
     "metadata": {},
     "outputs": []
    },
    {
     "cell_type": "code",
     "collapsed": false,
     "input": [
      "# this particular devices requires a 3.7 V power input\n",
      "\n",
      "# try to find a battery that is 3.7 V and has sufficient\n",
      "# capacity (using the value you just calculated)\n",
      "\n"
     ],
     "language": "python",
     "metadata": {},
     "outputs": []
    }
   ],
   "metadata": {}
  }
 ]
}