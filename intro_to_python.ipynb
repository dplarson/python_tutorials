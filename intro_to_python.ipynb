{
 "metadata": {
  "name": "",
  "signature": "sha256:0ae9b8de7d39d9a1fa13eab2aab7d8a8e86eacd78844302339b9e3ff8d022119"
 },
 "nbformat": 3,
 "nbformat_minor": 0,
 "worksheets": [
  {
   "cells": [
    {
     "cell_type": "markdown",
     "metadata": {},
     "source": [
      "# Intro to Python\n",
      "Part of the SWEET Workshop series presented by the [IDEA Student Center at UC San Diego](http://www.jacobsschool.ucsd.edu/student/).\n",
      "\n",
      "### Goals\n",
      "- learn the basics of Python (the programming language)\n",
      "- use Python to model an iPhone 6 bending\n",
      "- use numpy to vectorize the bending calculation\n",
      "- use matplotlib to visualize the bending\n",
      "\n",
      "### Requirements\n",
      "- python 2.7\n",
      "- ipython-notebook\n",
      "- numpy\n",
      "- matplotlib"
     ]
    },
    {
     "cell_type": "markdown",
     "metadata": {},
     "source": [
      "## 1) Basics of Python\n",
      "Python is a very simple language, but can be very powerful. We'll first go over the basics of Python's syntax."
     ]
    },
    {
     "cell_type": "code",
     "collapsed": false,
     "input": [
      "# display \"Hello World!\"\n",
      "print \"Hello World!\""
     ],
     "language": "python",
     "metadata": {},
     "outputs": [
      {
       "output_type": "stream",
       "stream": "stdout",
       "text": [
        "Hello World!\n"
       ]
      }
     ],
     "prompt_number": 1
    },
    {
     "cell_type": "code",
     "collapsed": false,
     "input": [
      "# Python uses # to comment out lines\n",
      "print \"This line shows up\"\n",
      "# print \"But this line doesn't, since it is commented out by a # symbol\""
     ],
     "language": "python",
     "metadata": {},
     "outputs": [
      {
       "output_type": "stream",
       "stream": "stdout",
       "text": [
        "This line shows up\n"
       ]
      }
     ],
     "prompt_number": 4
    },
    {
     "cell_type": "code",
     "collapsed": false,
     "input": [
      "# assign a variables with =\n",
      "x = 5\n",
      "print x\n",
      "\n",
      "# pi\n",
      "y = 3.14\n",
      "print y\n",
      "\n",
      "# gravity constant [m/s^2]\n",
      "gravity = 9.81\n",
      "print gravity"
     ],
     "language": "python",
     "metadata": {},
     "outputs": [
      {
       "output_type": "stream",
       "stream": "stdout",
       "text": [
        "5\n",
        "3.14\n",
        "9.81\n"
       ]
      }
     ],
     "prompt_number": 10
    },
    {
     "cell_type": "code",
     "collapsed": false,
     "input": [
      "# math operations in Python are straightforward\n",
      "# - + = addition\n",
      "# - - = subtraction\n",
      "# - * = multiplication\n",
      "# - / = division\n",
      "# - ** = raised to a power\n",
      "\n",
      "a = 4 * 2\n",
      "print a\n",
      "\n",
      "b = 4 ** 2\n",
      "print b\n",
      "\n",
      "print 50 / 2"
     ],
     "language": "python",
     "metadata": {},
     "outputs": [
      {
       "output_type": "stream",
       "stream": "stdout",
       "text": [
        "8\n",
        "16\n",
        "25\n"
       ]
      }
     ],
     "prompt_number": 15
    },
    {
     "cell_type": "code",
     "collapsed": false,
     "input": [
      "# unlike some languages (e.g. C/C++), in Python you\n",
      "# do not need to explicitly state the data type of\n",
      "# the variable\n",
      "\n",
      "# Python knows that this is an integer:\n",
      "x = 1\n",
      "print x\n",
      "\n",
      "# and that this is a float:\n",
      "y = 1.0\n",
      "print y"
     ],
     "language": "python",
     "metadata": {},
     "outputs": [
      {
       "output_type": "stream",
       "stream": "stdout",
       "text": [
        "1\n",
        "1.0\n"
       ]
      }
     ],
     "prompt_number": 21
    },
    {
     "cell_type": "code",
     "collapsed": false,
     "input": [
      "# but sometimes Python makes an incorrect assumption\n",
      "# about what you actually want:\n",
      "\n",
      "print \"3 / 2 = ???\"\n",
      "\n",
      "print 3 / 2\n",
      "\n",
      "print 3.0 / 2\n",
      "\n",
      "print 3 / 2.0"
     ],
     "language": "python",
     "metadata": {},
     "outputs": [
      {
       "output_type": "stream",
       "stream": "stdout",
       "text": [
        "3 / 2 = ???\n",
        "1\n",
        "1.5\n",
        "1.5\n"
       ]
      }
     ],
     "prompt_number": 24
    },
    {
     "cell_type": "markdown",
     "metadata": {},
     "source": [
      "## 2) iPhone 6 bending\n"
     ]
    },
    {
     "cell_type": "code",
     "collapsed": false,
     "input": [],
     "language": "python",
     "metadata": {},
     "outputs": []
    }
   ],
   "metadata": {}
  }
 ]
}