{
 "metadata": {
  "name": "",
  "signature": "sha256:43767d8ba72a6d34ee24e98f67587f3b84e0d0dc1e3c440058dfaef752616831"
 },
 "nbformat": 3,
 "nbformat_minor": 0,
 "worksheets": [
  {
   "cells": [
    {
     "cell_type": "markdown",
     "metadata": {},
     "source": [
      "# Intro to Python\n",
      "Part of the SWEET Workshop series presented by the [IDEA Student Center at UC San Diego](http://www.jacobsschool.ucsd.edu/student/).\n",
      "\n",
      "### Goals\n",
      "- learn the basics of Python (the programming language)\n",
      "- use Python to model an iPhone 6 bending\n",
      "- use numpy to vectorize the bending calculation\n",
      "- use matplotlib to visualize the bending\n",
      "\n",
      "### Requirements\n",
      "- python 2.7\n",
      "- ipython-notebook\n",
      "- numpy\n",
      "- matplotlib"
     ]
    },
    {
     "cell_type": "markdown",
     "metadata": {},
     "source": [
      "## 1) Basics of Python\n",
      "Python is a very simple language, but can be very powerful. We'll first go over the basics of Python's syntax."
     ]
    },
    {
     "cell_type": "code",
     "collapsed": false,
     "input": [
      "# display \"Hello World!\"\n",
      "print \"Hello World!\""
     ],
     "language": "python",
     "metadata": {},
     "outputs": [
      {
       "output_type": "stream",
       "stream": "stdout",
       "text": [
        "Hello World!\n"
       ]
      }
     ],
     "prompt_number": 1
    },
    {
     "cell_type": "code",
     "collapsed": false,
     "input": [
      "# Python uses # to comment out lines\n",
      "print \"This line shows up\"\n",
      "# print \"But this line doesn't, since it is commented out by a # symbol\""
     ],
     "language": "python",
     "metadata": {},
     "outputs": [
      {
       "output_type": "stream",
       "stream": "stdout",
       "text": [
        "This line shows up\n"
       ]
      }
     ],
     "prompt_number": 4
    },
    {
     "cell_type": "code",
     "collapsed": false,
     "input": [
      "# assign a variables with =\n",
      "x = 5\n",
      "print x\n",
      "\n",
      "# pi\n",
      "y = 3.14\n",
      "print y\n",
      "\n",
      "# gravity constant [m/s^2]\n",
      "gravity = 9.81\n",
      "print gravity"
     ],
     "language": "python",
     "metadata": {},
     "outputs": [
      {
       "output_type": "stream",
       "stream": "stdout",
       "text": [
        "5\n",
        "3.14\n",
        "9.81\n"
       ]
      }
     ],
     "prompt_number": 10
    },
    {
     "cell_type": "code",
     "collapsed": false,
     "input": [
      "# math operations in Python are straightforward\n",
      "# - + = addition\n",
      "# - - = subtraction\n",
      "# - * = multiplication\n",
      "# - / = division\n",
      "# - ** = raised to a power\n",
      "\n",
      "a = 4 * 2\n",
      "print a\n",
      "\n",
      "b = 4 ** 2\n",
      "print b\n",
      "\n",
      "print 50 / 2"
     ],
     "language": "python",
     "metadata": {},
     "outputs": [
      {
       "output_type": "stream",
       "stream": "stdout",
       "text": [
        "8\n",
        "16\n",
        "25\n"
       ]
      }
     ],
     "prompt_number": 15
    },
    {
     "cell_type": "code",
     "collapsed": false,
     "input": [
      "# unlike some languages (e.g. C/C++), in Python you\n",
      "# do not need to explicitly state the data type of\n",
      "# the variable\n",
      "\n",
      "# Python knows that this is an integer:\n",
      "x = 1\n",
      "print x\n",
      "\n",
      "# and that this is a float:\n",
      "y = 1.0\n",
      "print y"
     ],
     "language": "python",
     "metadata": {},
     "outputs": [
      {
       "output_type": "stream",
       "stream": "stdout",
       "text": [
        "1\n",
        "1.0\n"
       ]
      }
     ],
     "prompt_number": 21
    },
    {
     "cell_type": "code",
     "collapsed": false,
     "input": [
      "# but sometimes Python makes an incorrect assumption\n",
      "# about what you actually want:\n",
      "\n",
      "print \"3 / 2 = ???\"\n",
      "\n",
      "print 3 / 2\n",
      "\n",
      "print 3.0 / 2\n",
      "\n",
      "print 3 / 2.0"
     ],
     "language": "python",
     "metadata": {},
     "outputs": [
      {
       "output_type": "stream",
       "stream": "stdout",
       "text": [
        "3 / 2 = ???\n",
        "1\n",
        "1.5\n",
        "1.5\n"
       ]
      }
     ],
     "prompt_number": 24
    },
    {
     "cell_type": "markdown",
     "metadata": {},
     "source": [
      "## 2) iPhone 6 bending\n",
      "We are going to model the bending of an iPhone 6 by treating the iPhone 6 has a beam supported on two ends, with a force in its center. In this scenario, the deflection at the center ($\\delta_c$) can be calculated as\n",
      "\n",
      "$ \\delta_c = \\frac{F L^3}{48 E I}$ ,\n",
      "\n",
      "where $F$ is the force at the center, $L$ is the length of the beam, $E$ is the modulus of elasticity of the material, and $I$ is the area moment of inertia of the beam.\n",
      "\n",
      "From the [Apple website](https://www.apple.com/iphone-6/specs/), the iPhone 6 is 138.1mm long, 67.0mm wide, and 6.9mm thick. If we assume the iPhone is one solid piece of aluminum 6061, $E$ is 69 GPa (69x10^9 Pa). And the $I$ for a beam is\n",
      "\n",
      "$ I = \\frac{b h^3}{12}$ ,\n",
      "\n",
      "where $b$ is the width of the beam and $h$ is the height (i.e. thickness). So that means we have everything we need to estimate the deflection of an iPhone 6 under some force $F$:\n",
      "\n",
      "- $L$ = 138.1 mm = 0.1381 m\n",
      "- $b$ = 67.0 mm = 0.067 m\n",
      "- $h$ = 6.9 mm = 0.0069 m\n",
      "- $E$ = 69 GPa = 69 x 10^9 Pa = 69 x 10^9 N/m^2\n",
      "\n",
      "**NOTE**: some reports indicate the iPhone 6 bends under ~70 lbs of force (~311 N)."
     ]
    },
    {
     "cell_type": "code",
     "collapsed": false,
     "input": [
      "# calculate the moment of intertia (I) for the beam [m^4]\n",
      "b =\n",
      "h =\n",
      "I ="
     ],
     "language": "python",
     "metadata": {},
     "outputs": []
    },
    {
     "cell_type": "code",
     "collapsed": false,
     "input": [
      "# calculate the deflection of the iPhone under a force (F) [m]\n",
      "# NOTE: reports indicated that the iPhone 6 bent under 70 lbsf (~311 N)\n",
      "\n",
      "\n",
      "F =\n",
      "E =\n",
      "deflection ="
     ],
     "language": "python",
     "metadata": {},
     "outputs": []
    },
    {
     "cell_type": "markdown",
     "metadata": {},
     "source": [
      "## 3) Calculate the iPhone bending for multiple forces\n",
      "The next logical step in this analysis is to calculate the deflection of the iPhone under multiple forces. To do this, we are going to vectorize our calculation using the numpy package."
     ]
    },
    {
     "cell_type": "code",
     "collapsed": false,
     "input": [
      "# in Python, you have to explicitly state which packages you want\n",
      "# to use via the \"import\" command\n",
      "import numpy\n",
      "\n",
      "# test that numpy loaded properly by using one of numpy's functions\n",
      "print numpy.pi\n",
      "\n",
      "# cos(0) = 1\n",
      "print numpy.cos(0)\n",
      "\n",
      "# sin(0) = 0\n",
      "print numpy.sin(0)"
     ],
     "language": "python",
     "metadata": {},
     "outputs": [
      {
       "output_type": "stream",
       "stream": "stdout",
       "text": [
        "3.14159265359\n",
        "1.0\n",
        "0.0\n"
       ]
      }
     ],
     "prompt_number": 39
    },
    {
     "cell_type": "code",
     "collapsed": false,
     "input": [
      "# now that numpy is loaded, we can create a calculate\n",
      "# the deflection for multiple forces as a vectorized\n",
      "# operation\n",
      "\n",
      "# create a 1D array of force values using numpy's arange function\n",
      "#\n",
      "# array = numpy.arange(minimum, maximum, step change)\n",
      "x = numpy.arange(1, 5, 1)\n",
      "print x\n",
      "\n",
      "# you can perform the same math operations on the vector\n",
      "# as on a single value\n",
      "print \"2 * x =\"\n",
      "print x * 2"
     ],
     "language": "python",
     "metadata": {},
     "outputs": [
      {
       "output_type": "stream",
       "stream": "stdout",
       "text": [
        "[1 2 3 4]\n",
        "2 * x =\n",
        "[2 4 6 8]\n"
       ]
      }
     ],
     "prompt_number": 33
    },
    {
     "cell_type": "code",
     "collapsed": false,
     "input": [
      "# now vectorize the deflection calculation\n",
      "# using the same code from above\n",
      "\n",
      "# calculate area moment of intertia [m^2]\n",
      "b =\n",
      "h =\n",
      "I =\n",
      "\n",
      "# choose a range of forces [N] to use\n",
      "F = numpy.arange()\n",
      "\n",
      "# calculate the deflection [m]\n",
      "deflection ="
     ],
     "language": "python",
     "metadata": {},
     "outputs": []
    },
    {
     "cell_type": "markdown",
     "metadata": {},
     "source": [
      "## 4) Plotting the deflection vs. force\n",
      "Now let's visualize how the force affects the deflection of the iPhone. We'll use matplotlib to plot force vs. the deflection."
     ]
    },
    {
     "cell_type": "code",
     "collapsed": false,
     "input": [
      "# as with numpy, we need to load matplotlib\n",
      "import matplotlib\n",
      "\n",
      "# and to make the plots be displayed inside the iPython Notebook,\n",
      "# we simply run the following line:\n",
      "%matplotlib inline\n",
      "\n",
      "# but since we only need pyplot (the plotting part of matplotlib)\n",
      "# we'll change our import call to only load pyplot\n",
      "import matplotlib.pyplot\n",
      "\n",
      "# typing \"matplotlib.pyplot\" over and over gets old fast.\n",
      "# foruntately, we can assign a nickname/shortcut for the\n",
      "# function\n",
      "import matplotlib.pyplot as plt\n",
      "\n",
      "# now whenever we write \"plt\", the code knows we actually\n",
      "# mean \"matplotlib.pyplot\""
     ],
     "language": "python",
     "metadata": {},
     "outputs": [],
     "prompt_number": 38
    },
    {
     "cell_type": "code",
     "collapsed": false,
     "input": [
      "# with \"matplotlib.pyplot\" loaded (as \"plt\"), we can plot stuff\n",
      "\n",
      "# generate some data to plot\n",
      "x = numpy.arange(0.0, numpy.pi, 0.1)\n",
      "y = numpy.cos(x)\n",
      "\n",
      "# plot the data\n",
      "plt.plot(x, y)\n",
      "\n",
      "# add labels to the x-axis and y-axis\n",
      "plt.xlabel('x')\n",
      "plt.ylabel('y = cos(x)')"
     ],
     "language": "python",
     "metadata": {},
     "outputs": [
      {
       "metadata": {},
       "output_type": "pyout",
       "prompt_number": 45,
       "text": [
        "<matplotlib.text.Text at 0x1068e2f10>"
       ]
      },
      {
       "metadata": {},
       "output_type": "display_data",
       "png": "[encoded data removed]",
       "text": [
        "<matplotlib.figure.Figure at 0x106b29a50>"
       ]
      }
     ],
     "prompt_number": 45
    },
    {
     "cell_type": "code",
     "collapsed": false,
     "input": [
      "# now let's plot the force vs. deflection of the iPhone\n",
      "plt.plot()"
     ],
     "language": "python",
     "metadata": {},
     "outputs": []
    },
    {
     "cell_type": "code",
     "collapsed": false,
     "input": [
      "# try modifying the plot to make it look nicer:\n",
      "\n",
      "# change the line color to red:\n",
      "# - plt.plot(x, y, color='red')\n",
      "\n",
      "# change the line color to a custom color\n",
      "# - '#6c71c4' is the hex code for a purple/violet color\n",
      "# - plt.plot(x, y, color='#6c71c4')\n",
      "\n",
      "# change the line thickness\n",
      "# - plt.plot(x, y, linewidth=2)\n",
      "\n",
      "# change the line style (solid, dashed, dotted)\n",
      "# - plt.plot(x, y, linestyle='--')\n",
      "# - plt.plot(x, y, linestyle='-.')\n",
      "# - plt.plot(x, y, linestyle=':')"
     ],
     "language": "python",
     "metadata": {},
     "outputs": []
    }
   ],
   "metadata": {}
  }
 ]
}