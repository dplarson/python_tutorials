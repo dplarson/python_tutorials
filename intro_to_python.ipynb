{
 "cells": [
  {
   "cell_type": "markdown",
   "metadata": {},
   "source": [
    "# Intro to Python\n",
    "Part of the SWEET Workshop series presented by the [IDEA Student Center at UC San Diego](http://www.jacobsschool.ucsd.edu/student/).\n",
    "\n",
    "### Goals\n",
    "- learn the basics of Python (the programming language)\n",
    "- use Python to model an iPhone 6 bending\n",
    "- use numpy to vectorize the bending calculation\n",
    "- use matplotlib to visualize the bending\n",
    "\n",
    "### Requirements\n",
    "- python 2.7\n",
    "- ipython-notebook\n",
    "- numpy\n",
    "- matplotlib"
   ]
  },
  {
   "cell_type": "markdown",
   "metadata": {},
   "source": [
    "## 1) Basics of Python\n",
    "Python is a very simple language, but can be very powerful. We'll first go over the basics of Python's syntax."
   ]
  },
  {
   "cell_type": "code",
   "execution_count": null,
   "metadata": {
    "collapsed": false
   },
   "outputs": [],
   "source": [
    "# display \"Hello World!\"\n",
    "print \"Hello World!\""
   ]
  },
  {
   "cell_type": "code",
   "execution_count": null,
   "metadata": {
    "collapsed": false
   },
   "outputs": [],
   "source": [
    "# Python uses # to comment out lines\n",
    "print \"This line shows up\"\n",
    "# print \"But this line doesn't, since it is commented out by a # symbol\""
   ]
  },
  {
   "cell_type": "code",
   "execution_count": null,
   "metadata": {
    "collapsed": false
   },
   "outputs": [],
   "source": [
    "# assign a variables with =\n",
    "x = 5\n",
    "print x\n",
    "\n",
    "# pi\n",
    "y = 3.14\n",
    "print y\n",
    "\n",
    "# gravity constant [m/s^2]\n",
    "gravity = 9.81\n",
    "print gravity"
   ]
  },
  {
   "cell_type": "code",
   "execution_count": null,
   "metadata": {
    "collapsed": false
   },
   "outputs": [],
   "source": [
    "# math operations in Python are straightforward\n",
    "# - + = addition\n",
    "# - - = subtraction\n",
    "# - * = multiplication\n",
    "# - / = division\n",
    "# - ** = raised to a power\n",
    "\n",
    "a = 4 * 2\n",
    "print a\n",
    "\n",
    "b = 4 ** 2\n",
    "print b\n",
    "\n",
    "print 50 / 2"
   ]
  },
  {
   "cell_type": "code",
   "execution_count": null,
   "metadata": {
    "collapsed": false
   },
   "outputs": [],
   "source": [
    "# unlike some languages (e.g. C/C++), in Python you\n",
    "# do not need to explicitly state the data type of\n",
    "# the variable\n",
    "\n",
    "# Python knows that this is an integer:\n",
    "x = 1\n",
    "print x\n",
    "\n",
    "# and that this is a float:\n",
    "y = 1.0\n",
    "print y"
   ]
  },
  {
   "cell_type": "code",
   "execution_count": null,
   "metadata": {
    "collapsed": false
   },
   "outputs": [],
   "source": [
    "# but sometimes Python makes an incorrect assumption\n",
    "# about what you actually want:\n",
    "\n",
    "print \"3 / 2 = ???\"\n",
    "\n",
    "print 3 / 2\n",
    "\n",
    "print 3.0 / 2\n",
    "\n",
    "print 3 / 2.0"
   ]
  },
  {
   "cell_type": "markdown",
   "metadata": {},
   "source": [
    "## 2) iPhone 6 bending\n",
    "We are going to model the bending of an iPhone 6 by treating the iPhone 6 has a beam supported on two ends, with a force in its center. In this scenario, the deflection at the center ($\\delta_c$) can be calculated as\n",
    "\n",
    "$ \\delta_c = \\frac{F L^3}{48 E I}$ ,\n",
    "\n",
    "where $F$ is the force at the center, $L$ is the length of the beam, $E$ is the modulus of elasticity of the material, and $I$ is the area moment of inertia of the beam.\n",
    "\n",
    "From the [Apple website](https://www.apple.com/iphone-6/specs/), the iPhone 6 is 138.1mm long, 67.0mm wide, and 6.9mm thick. If we assume the iPhone is one solid piece of aluminum 6061, $E$ is 69 GPa (69x10^9 Pa). And the $I$ for a beam is\n",
    "\n",
    "$ I = \\frac{b h^3}{12}$ ,\n",
    "\n",
    "where $b$ is the width of the beam and $h$ is the height (i.e. thickness).\n",
    "\n",
    "Some reports indicate the iPhone 6 bends under ~70 lbs of force (~311 N). Also, since the iPhone is not a solid piece of aluminum (there's the screen, battery, etc.), let's make our calculation more realistic by treating the iPhone as a 2mm thick piece of aluminum.\n",
    "\n",
    "So now  we have everything we need to estimate the deflection of an iPhone 6 under some force $F$:\n",
    "\n",
    "- $L$ = 138.1 mm = 0.1381 m\n",
    "- $b$ =  67.0 mm = 0.0670 m\n",
    "- $h$ =   2.0 mm = 0.0020 m\n",
    "- $E$ = 69 GPa   = 69 x 10^9 Pa = 69 x 10^9 N/m^2"
   ]
  },
  {
   "cell_type": "code",
   "execution_count": 28,
   "metadata": {
    "collapsed": false
   },
   "outputs": [
    {
     "data": {
      "text/html": [
       "<img src=\"http://upload.wikimedia.org/wikipedia/commons/1/10/Beam_bending.png\" width=\"500\"/>"
      ],
      "text/plain": [
       "<IPython.core.display.Image object>"
      ]
     },
     "execution_count": 28,
     "metadata": {},
     "output_type": "execute_result"
    }
   ],
   "source": [
    "# here's what our simplified model looks like\n",
    "# (ignore what the code for now and just focus on the image)\n",
    "from IPython.display import Image\n",
    "Image(url='http://upload.wikimedia.org/wikipedia/commons/1/10/Beam_bending.png', width=500)"
   ]
  },
  {
   "cell_type": "code",
   "execution_count": null,
   "metadata": {
    "collapsed": false
   },
   "outputs": [],
   "source": [
    "# HINT: in Python, 1x10^9 can be represented two ways:\n",
    "# i) 1 * (10 ** 9)\n",
    "# ii) 1E9\n",
    "\n",
    "# ii) is usually easier to read (and results in less mistakes)\n",
    "\n",
    "# example: you are told a mass is 5 kg, but need the\n",
    "# mass in g for your calculation\n",
    "\n",
    "# since 1 kg = 1000 g = 1E3g\n",
    "mass_kg = 5.0\n",
    "mass_g = 5.0E3"
   ]
  },
  {
   "cell_type": "code",
   "execution_count": null,
   "metadata": {
    "collapsed": false
   },
   "outputs": [],
   "source": [
    "# calculate the moment of intertia (I) for the beam [m^4]\n",
    "b = 0\n",
    "h = 0\n",
    "I = 0"
   ]
  },
  {
   "cell_type": "code",
   "execution_count": null,
   "metadata": {
    "collapsed": false
   },
   "outputs": [],
   "source": [
    "# calculate the deflection of the iPhone under a force (F) [m]\n",
    "# NOTE: reports indicated that the iPhone 6 bent under 70 lbsf (~311 N)\n",
    "\n",
    "\n",
    "F = 0\n",
    "E = 0\n",
    "deflection = 0"
   ]
  },
  {
   "cell_type": "markdown",
   "metadata": {},
   "source": [
    "## 3) Calculate the iPhone bending for multiple forces\n",
    "The next logical step in this analysis is to calculate the deflection of the iPhone under multiple forces. To do this, we are going to vectorize our calculation using the numpy package."
   ]
  },
  {
   "cell_type": "code",
   "execution_count": null,
   "metadata": {
    "collapsed": false
   },
   "outputs": [],
   "source": [
    "# in Python, you have to explicitly state which packages you want\n",
    "# to use via the \"import\" command\n",
    "import numpy\n",
    "\n",
    "# test that numpy loaded properly by using one of numpy's functions\n",
    "print numpy.pi\n",
    "\n",
    "# cos(0) = 1\n",
    "print numpy.cos(0)\n",
    "\n",
    "# sin(0) = 0\n",
    "print numpy.sin(0)"
   ]
  },
  {
   "cell_type": "code",
   "execution_count": null,
   "metadata": {
    "collapsed": false
   },
   "outputs": [],
   "source": [
    "# now that numpy is loaded, we can create a calculate\n",
    "# the deflection for multiple forces as a vectorized\n",
    "# operation\n",
    "\n",
    "# create a 1D array of force values using numpy's arange function\n",
    "#\n",
    "# array = numpy.arange(minimum, maximum, step change)\n",
    "x = numpy.arange(1, 5, 1)\n",
    "print x\n",
    "\n",
    "# you can perform the same math operations on the vector\n",
    "# as on a single value\n",
    "print \"2 * x =\"\n",
    "print x * 2\n",
    "\n",
    "print \"x^2 =\"\n",
    "print x ** 2"
   ]
  },
  {
   "cell_type": "code",
   "execution_count": null,
   "metadata": {
    "collapsed": false
   },
   "outputs": [],
   "source": [
    "# now vectorize the deflection calculation\n",
    "# using the same code from above\n",
    "\n",
    "# calculate area moment of intertia [m^2]\n",
    "b = 0\n",
    "h = 0\n",
    "I = 0\n",
    "\n",
    "# choose a range of forces [N] to use\n",
    "F = numpy.arange(0, 1, 1)\n",
    "\n",
    "# calculate the deflection [m]\n",
    "deflection = 0"
   ]
  },
  {
   "cell_type": "markdown",
   "metadata": {},
   "source": [
    "## 4) Plotting the deflection vs. force\n",
    "Now let's visualize how the force affects the deflection of the iPhone. We'll use matplotlib to plot force vs. the deflection."
   ]
  },
  {
   "cell_type": "code",
   "execution_count": null,
   "metadata": {
    "collapsed": false
   },
   "outputs": [],
   "source": [
    "# as with numpy, we need to load matplotlib\n",
    "import matplotlib\n",
    "\n",
    "# and to make the plots be displayed inside the iPython Notebook,\n",
    "# we simply run the following line:\n",
    "%matplotlib inline\n",
    "\n",
    "# since we only need pyplot (the plotting part of matplotlib)\n",
    "# we'll change our import call to only load pyplot\n",
    "import matplotlib.pyplot\n",
    "\n",
    "# but typing \"matplotlib.pyplot\" over and over gets old fast.\n",
    "# foruntately, we can assign a nickname/shortcut for the\n",
    "# function\n",
    "import matplotlib.pyplot as plt\n",
    "\n",
    "# now whenever we write \"plt\", the code knows we actually\n",
    "# mean \"matplotlib.pyplot\""
   ]
  },
  {
   "cell_type": "code",
   "execution_count": null,
   "metadata": {
    "collapsed": false
   },
   "outputs": [],
   "source": [
    "# with \"matplotlib.pyplot\" loaded (as \"plt\"), we can plot stuff\n",
    "\n",
    "# generate some data to plot\n",
    "x = numpy.arange(0.0, numpy.pi, 0.1)\n",
    "y = numpy.cos(x)\n",
    "\n",
    "# plot the data\n",
    "plt.plot(x, y)\n",
    "\n",
    "# add labels to the x-axis and y-axis\n",
    "plt.xlabel('x')\n",
    "plt.ylabel('y = cos(x)')"
   ]
  },
  {
   "cell_type": "code",
   "execution_count": null,
   "metadata": {
    "collapsed": false
   },
   "outputs": [],
   "source": [
    "# now let's plot the force vs. deflection of the iPhone\n",
    "plt.plot()"
   ]
  },
  {
   "cell_type": "code",
   "execution_count": null,
   "metadata": {
    "collapsed": false
   },
   "outputs": [],
   "source": [
    "# try modifying the plot to make it look nicer:\n",
    "\n",
    "# change the line color to red:\n",
    "# - plt.plot(x, y, color='red')\n",
    "\n",
    "# change the line color to a custom color\n",
    "# - '#6c71c4' is the hex code for a purple/violet color\n",
    "# - plt.plot(x, y, color='#6c71c4')\n",
    "\n",
    "# change the line thickness\n",
    "# - plt.plot(x, y, linewidth=2)\n",
    "\n",
    "# change the line style (solid, dashed, dotted)\n",
    "# - plt.plot(x, y, linestyle='--')\n",
    "# - plt.plot(x, y, linestyle='-.')\n",
    "# - plt.plot(x, y, linestyle=':')"
   ]
  },
  {
   "cell_type": "markdown",
   "metadata": {},
   "source": [
    "## 5) Extra: compare multiple materials\n",
    "Compare how much the iPhone would bend if it were made out of other materials (e.g. steel or titanium).\n",
    "\n",
    "1. look up the modulus of elasticity ($E$) for the different materials\n",
    "2. calculate the deflection for each material\n",
    "3. plot the deflection vs. force for the multiple materials"
   ]
  },
  {
   "cell_type": "code",
   "execution_count": null,
   "metadata": {
    "collapsed": false
   },
   "outputs": [],
   "source": [
    "# calculate deflection for the different materials\n"
   ]
  },
  {
   "cell_type": "code",
   "execution_count": null,
   "metadata": {
    "collapsed": false
   },
   "outputs": [],
   "source": [
    "# plot the deflections for the materials (on the same plot\n",
    "# so you can compare)\n"
   ]
  }
 ],
 "metadata": {
  "kernelspec": {
   "display_name": "Python 2",
   "language": "python",
   "name": "python2"
  },
  "language_info": {
   "codemirror_mode": {
    "name": "ipython",
    "version": 2
   },
   "file_extension": ".py",
   "mimetype": "text/x-python",
   "name": "python",
   "nbconvert_exporter": "python",
   "pygments_lexer": "ipython2",
   "version": "2.7.9"
  }
 },
 "nbformat": 4,
 "nbformat_minor": 0
}
