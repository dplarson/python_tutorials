{
 "metadata": {
  "kernelspec": {
   "display_name": "Python 2",
   "language": "python",
   "name": "python2"
  },
  "language_info": {
   "codemirror_mode": {
    "name": "ipython",
    "version": 2
   },
   "file_extension": ".py",
   "mimetype": "text/x-python",
   "name": "python",
   "nbconvert_exporter": "python",
   "pygments_lexer": "ipython2",
   "version": "2.7.9"
  },
  "name": "",
  "signature": "sha256:4e503e1cd36a652f3c18cb38c4afe3fcf2a2e99bc7b020f8ab2f2ba38e33d018"
 },
 "nbformat": 3,
 "nbformat_minor": 0,
 "worksheets": [
  {
   "cells": [
    {
     "cell_type": "markdown",
     "metadata": {},
     "source": [
      "# Intro to Python\n",
      "Part of the SWEET Workshop series presented by the [IDEA Student Center at UC San Diego](http://www.jacobsschool.ucsd.edu/student/).\n",
      "\n",
      "### Goals\n",
      "- learn the basics of Python (the programming language)\n",
      "- use Python to model an iPhone 6 bending\n",
      "- use numpy to vectorize the bending calculation\n",
      "- use matplotlib to visualize the bending\n",
      "\n",
      "### Requirements\n",
      "- python 2.7\n",
      "- ipython-notebook\n",
      "- numpy\n",
      "- matplotlib"
     ]
    },
    {
     "cell_type": "markdown",
     "metadata": {},
     "source": [
      "## 1) Basics of Python\n",
      "Python is a very simple language, but can be very powerful. We'll first go over the basics of Python's syntax."
     ]
    },
    {
     "cell_type": "code",
     "collapsed": false,
     "input": [
      "print \"Hello World!\""
     ],
     "language": "python",
     "metadata": {},
     "outputs": []
    },
    {
     "cell_type": "code",
     "collapsed": false,
     "input": [
      "# Python uses # to comment out lines\n",
      "print \"This line shows up\"\n",
      "\n",
      "# print \"But this line doesn't, since it is commented out by a # symbol\""
     ],
     "language": "python",
     "metadata": {},
     "outputs": []
    },
    {
     "cell_type": "code",
     "collapsed": false,
     "input": [
      "# assign a variables with =\n",
      "x = 5\n",
      "print x"
     ],
     "language": "python",
     "metadata": {},
     "outputs": []
    },
    {
     "cell_type": "code",
     "collapsed": false,
     "input": [
      "# now try to create variables for common engineering-related constants:\n",
      "# - pi\n",
      "# - acceleration due to gravity (on Earth)\n"
     ],
     "language": "python",
     "metadata": {},
     "outputs": []
    },
    {
     "cell_type": "code",
     "collapsed": false,
     "input": [
      "# math operations in Python are straightforward\n",
      "#  + = addition\n",
      "#  - = subtraction\n",
      "#  * = multiplication\n",
      "#  / = division\n",
      "#  ** = raised to a power\n",
      "\n",
      "print 4 * 2"
     ],
     "language": "python",
     "metadata": {},
     "outputs": []
    },
    {
     "cell_type": "code",
     "collapsed": false,
     "input": [
      "# now try calculating some engineering-related things\n",
      "\n",
      "# 1) the potential energy (PE) of a 2 kg bowling ball dropped \n",
      "# from the top of Jacobs Hall (recall that PE = m * g * h)\n",
      "\n",
      "# 2) the kinetic energy (KE) of F-16 fighter jet (~9100 kg) traveling\n",
      "# at mach 2 (recall that KE = 1/2 * m * v^2)\n",
      "\n",
      "# 3) the Reynolds number (RE) of blood flowing through an artery,\n",
      "# assuming:\n",
      "#   - flow rate: 45 cm/s\n",
      "#   - diameter: 0.4 cm\n",
      "#   - kinematic viscosity = 3 x 10^-6 m^2/s\n",
      "#\n",
      "# HINT: make sure to convert everything to the same units\n"
     ],
     "language": "python",
     "metadata": {},
     "outputs": []
    },
    {
     "cell_type": "markdown",
     "metadata": {},
     "source": [
      "## 2) iPhone 6 bending\n",
      "We are going to model the bending of an iPhone 6 by treating the \n",
      "iPhone 6 has a beam supported on two ends, with a force in its \n",
      "center. In this scenario, the deflection at the center ($\\delta_c$)\n",
      "can be calculated as:\n",
      "\n",
      "$ \\delta_c = \\frac{F L^3}{48 E I}$ ,\n",
      "\n",
      "where $F$ is the force at the center, $L$ is the length of the beam,\n",
      "$E$ is the modulus of elasticity of the material, and $I$ is the \n",
      "area moment of inertia of the beam. Since the iPhone is basically\n",
      "a rectangular beam, we can calculate $I$ as:\n",
      "\n",
      "$ I = \\frac{b h^3}{12}$ ,\n",
      "\n",
      "where $b$ is the width of the beam and $h$ is the height (i.e. thickness)."
     ]
    },
    {
     "cell_type": "code",
     "collapsed": false,
     "input": [
      "# here's what our simplified model looks like\n",
      "# (ignore what the code for now and just focus on the image)\n",
      "from IPython.display import Image\n",
      "Image(url='http://upload.wikimedia.org/wikipedia/commons/1/10/Beam_bending.png', width=500)"
     ],
     "language": "python",
     "metadata": {},
     "outputs": [
      {
       "html": [
        "<img src=\"http://upload.wikimedia.org/wikipedia/commons/1/10/Beam_bending.png\" width=\"500\"/>"
       ],
       "metadata": {},
       "output_type": "pyout",
       "prompt_number": 98,
       "text": [
        "<IPython.core.display.Image at 0x104da4390>"
       ]
      }
     ],
     "prompt_number": 98
    },
    {
     "cell_type": "markdown",
     "metadata": {},
     "source": [
      "### 2.1) Estimate material properties of the iPhone\n",
      "Although the iPhone 6 is made up of multiple materials (aluminum, \n",
      "glass, etc.), each with different values of $E$, we can simplify\n",
      "our problem by treating the iPhone as if it is made of a single\n",
      "material with some unknown $E$. Then we can use reported bending\n",
      "results to estimate $E$.\n",
      "\n",
      "From the [Apple website](https://www.apple.com/iphone-6/specs/), \n",
      "the iPhone 6 is 138.1mm long, 67.0mm wide, and 6.9mm thick. And \n",
      "reports indicate that the iPhone 6 bends ~1cm under ~70 lbs of \n",
      "force (~311 N)."
     ]
    },
    {
     "cell_type": "code",
     "collapsed": false,
     "input": [
      "# use the information above to calculate the moment of \n",
      "# intertia (I) for the iPhone 6 in units of [m^4]\n"
     ],
     "language": "python",
     "metadata": {},
     "outputs": []
    },
    {
     "cell_type": "code",
     "collapsed": false,
     "input": [
      "# now calculate the modulus of elasticity (E) of the\n",
      "# iPhone in units of [N/m^2]\n"
     ],
     "language": "python",
     "metadata": {},
     "outputs": []
    },
    {
     "cell_type": "code",
     "collapsed": false,
     "input": [
      "# compare your estimated value of E to other common materials\n",
      "# (e.g. 1060 Aluminum)\n"
     ],
     "language": "python",
     "metadata": {},
     "outputs": []
    },
    {
     "cell_type": "markdown",
     "metadata": {},
     "source": [
      "### 2.2) Model the iPhone bending under a range of forces\n",
      "The next logical step in this analysis is to calculate the deflection of the iPhone under a range of forces. To do this, we are going to vectorize our calculations using the numpy package."
     ]
    },
    {
     "cell_type": "code",
     "collapsed": false,
     "input": [
      "# in Python, you have to explicitly state which packages you want\n",
      "# to use via the \"import\" command\n",
      "import numpy\n",
      "\n",
      "# test that numpy loaded properly by using one of numpy's functions\n",
      "print numpy.pi\n",
      "\n",
      "# cos(0) = 1\n",
      "print numpy.cos(0)\n",
      "\n",
      "# sin(pi/2) = 1\n"
     ],
     "language": "python",
     "metadata": {},
     "outputs": []
    },
    {
     "cell_type": "code",
     "collapsed": false,
     "input": [
      "# because writing \"numpy\" over and over gets tiring, we\n",
      "# can assign a shorter name to refer to \"numpy\"\n",
      "import numpy as np\n",
      "\n",
      "print np.pi\n",
      "\n",
      "# try calling other numpy functions"
     ],
     "language": "python",
     "metadata": {},
     "outputs": []
    },
    {
     "cell_type": "code",
     "collapsed": false,
     "input": [
      "# to create a vector of values, using numpy's arange() function:\n",
      "#\n",
      "# array = numpy.arange(minimum, maximum, step change)\n",
      "print numpy.arange(0.0, 5, 1.0)"
     ],
     "language": "python",
     "metadata": {},
     "outputs": []
    },
    {
     "cell_type": "code",
     "collapsed": false,
     "input": [
      "# now try some vectorized calculations\n",
      "\n",
      "# create a vector and square all the values\n",
      "\n",
      "\n",
      "# calculate the mean value of a vector using numpy's mean() function:\n",
      "#\n",
      "# mean = np.mean(some_vector)\n",
      "\n",
      "\n",
      "# numpy has functions for other common operations, e.g., sum, \n",
      "# max, min, and standard deviation\n"
     ],
     "language": "python",
     "metadata": {},
     "outputs": []
    },
    {
     "cell_type": "code",
     "collapsed": false,
     "input": [
      "# now let's apply what we've learned to modeling the\n",
      "# iPhone 6 bending\n",
      "\n",
      "# again, calculate the area moment of intertia [m^2] of the iPhone,\n",
      "# making sure to keep the units consistent (e.g. all dimensions in [m], not [mm])\n",
      "\n",
      "\n",
      "# create a vector with a range of forces [N] to test\n",
      "\n",
      "\n",
      "# calculate the deflection [m] of the iPhone for the range of\n",
      "# forces\n"
     ],
     "language": "python",
     "metadata": {},
     "outputs": []
    },
    {
     "cell_type": "markdown",
     "metadata": {},
     "source": [
      "### 2.3) Plotting the deflection vs. force\n",
      "Now let's visualize how the force affects the deflection of the iPhone. We'll use matplotlib to plot the force vs. the deflection."
     ]
    },
    {
     "cell_type": "code",
     "collapsed": false,
     "input": [
      "# as with numpy, we need to load matplotlib\n",
      "import matplotlib\n",
      "\n",
      "# and to make the plots be displayed inside the iPython Notebook,\n",
      "# we simply run the following line:\n",
      "%matplotlib inline\n",
      "\n",
      "# since we only need pyplot (the plotting part of matplotlib)\n",
      "# we'll change our import call to only load pyplot\n",
      "import matplotlib.pyplot\n",
      "\n",
      "# but typing \"matplotlib.pyplot\" over and over gets old fast,\n",
      "# so we again define an alias\n",
      "import matplotlib.pyplot as plt\n",
      "\n",
      "# now whenever we write \"plt\", the code knows we actually\n",
      "# mean \"matplotlib.pyplot\""
     ],
     "language": "python",
     "metadata": {},
     "outputs": []
    },
    {
     "cell_type": "code",
     "collapsed": false,
     "input": [
      "# with \"matplotlib.pyplot\" loaded (as \"plt\"), we can plot stuff\n",
      "\n",
      "# generate two vectors to plot, e.g.,\n",
      "# - x = 0 to 2*pi\n",
      "# - y = sin(x)\n",
      "\n",
      "# plot the data\n",
      "#plt.plot(x, y)\n",
      "\n",
      "# add labels to the x-axis and y-axis using plt.xlabel() and plt.ylabel()"
     ],
     "language": "python",
     "metadata": {},
     "outputs": []
    },
    {
     "cell_type": "code",
     "collapsed": false,
     "input": [
      "# now let's plot the force vs. deflection vectors that you\n",
      "# calculated in the previous section\n",
      "\n",
      "# plot the vectors\n",
      "\n",
      "\n",
      "# add axes labels\n"
     ],
     "language": "python",
     "metadata": {},
     "outputs": []
    },
    {
     "cell_type": "code",
     "collapsed": false,
     "input": [
      "# matplotlib has many options for customizing plots, so let's try them out:\n",
      "\n",
      "# change the line color to red:\n",
      "# - plt.plot(x, y, color='red')\n",
      "\n",
      "# change the line color to a custom color\n",
      "# - '#6c71c4' is the hex code for a purple/violet color\n",
      "# - plt.plot(x, y, color='#6c71c4')\n",
      "\n",
      "# change the line thickness\n",
      "# - plt.plot(x, y, linewidth=2)\n",
      "\n",
      "# change the line style (solid, dashed, dotted)\n",
      "# - plt.plot(x, y, linestyle='--')\n",
      "# - plt.plot(x, y, linestyle='-.')\n",
      "# - plt.plot(x, y, linestyle=':')"
     ],
     "language": "python",
     "metadata": {},
     "outputs": []
    },
    {
     "cell_type": "markdown",
     "metadata": {},
     "source": [
      "### 2.4) Extra: compare multiple materials\n",
      "Compare how much the iPhone would bend if it were made out of other materials (e.g. steel or titanium).\n",
      "\n",
      "1. look up the modulus of elasticity ($E$) for the different materials\n",
      "2. calculate the deflection for each material\n",
      "3. plot the deflection vs. force for the multiple materials"
     ]
    },
    {
     "cell_type": "code",
     "collapsed": false,
     "input": [
      "# calculate deflection for the different materials\n"
     ],
     "language": "python",
     "metadata": {},
     "outputs": []
    },
    {
     "cell_type": "code",
     "collapsed": false,
     "input": [
      "# plot the deflections for the materials (on the same plot\n",
      "# so you can compare)\n"
     ],
     "language": "python",
     "metadata": {},
     "outputs": []
    }
   ],
   "metadata": {}
  }
 ]
}