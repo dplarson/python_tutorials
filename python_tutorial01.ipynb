{
 "metadata": {
  "name": ""
 },
 "nbformat": 3,
 "nbformat_minor": 0,
 "worksheets": [
  {
   "cells": [
    {
     "cell_type": "markdown",
     "metadata": {},
     "source": [
      "# Python Tutorial \\#1\n",
      "This tutorial will cover the basics of Python syntax, packages/libraries, file I/O, and plotting. The examples will use real data measured by a Beaglebone Black whenever possible."
     ]
    },
    {
     "cell_type": "markdown",
     "metadata": {},
     "source": [
      "## 1) Syntax\n",
      "1. tab alignment instead of semi-colons\n",
      "2. assigning variables\n",
      "3. printing"
     ]
    },
    {
     "cell_type": "code",
     "collapsed": false,
     "input": [
      "% code here"
     ],
     "language": "python",
     "metadata": {},
     "outputs": [],
     "prompt_number": 1
    },
    {
     "cell_type": "markdown",
     "metadata": {},
     "source": [
      "## 2) Packages\n",
      "1. import packages\n",
      "2. import packages with an alias\n",
      "3. reading online documention"
     ]
    },
    {
     "cell_type": "code",
     "collapsed": false,
     "input": [
      "% code here"
     ],
     "language": "python",
     "metadata": {},
     "outputs": []
    },
    {
     "cell_type": "markdown",
     "metadata": {},
     "source": [
      "## 3) File I/O\n",
      "1. import data file using NumPy"
     ]
    },
    {
     "cell_type": "code",
     "collapsed": false,
     "input": [
      "% code here"
     ],
     "language": "python",
     "metadata": {},
     "outputs": []
    },
    {
     "cell_type": "markdown",
     "metadata": {},
     "source": [
      "## 4) Working with data\n",
      "1. min, max, mean\n",
      "2. indexing (all, first n indices, last n indices)\n",
      "3. functions"
     ]
    },
    {
     "cell_type": "code",
     "collapsed": false,
     "input": [
      "% code here"
     ],
     "language": "python",
     "metadata": {},
     "outputs": []
    },
    {
     "cell_type": "markdown",
     "metadata": {},
     "source": [
      "## 5) Plotting\n",
      "1. basic plot\n",
      "2. adjusting plot properties (e.g. line color and labels)"
     ]
    },
    {
     "cell_type": "code",
     "collapsed": false,
     "input": [
      "% code here"
     ],
     "language": "python",
     "metadata": {},
     "outputs": []
    }
   ],
   "metadata": {}
  }
 ]
}